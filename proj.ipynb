{
 "cells": [
  {
   "attachments": {},
   "cell_type": "markdown",
   "id": "682f6ab5",
   "metadata": {},
   "source": [
    "# CS445 Final Project: Face Swapping\n",
    "\n",
    "### Group Members:\n",
    "\n",
    "Hongxiao Chen, Shuai Wei, Zhexuan Yin\n",
    "\n",
    "### Motivation\n",
    "The objective for this project is to be able to capture a facial expression from one image and put it on another person. The motivation for this project is that people may want to capture an expression from another person, and then be able to apply it to another image. By completing this project, we hope to learn how to capture facial expression and blend naturally onto another image. "
   ]
  },
  {
   "attachments": {},
   "cell_type": "markdown",
   "id": "ab54a466",
   "metadata": {},
   "source": [
    "## Setup"
   ]
  },
  {
   "cell_type": "code",
   "execution_count": 1,
   "metadata": {},
   "outputs": [],
   "source": [
    "import cv2\n",
    "import dlib"
   ]
  },
  {
   "attachments": {},
   "cell_type": "markdown",
   "id": "f753cd56",
   "metadata": {},
   "source": [
    "## Part 1: Landmark & Triangulation source image"
   ]
  },
  {
   "cell_type": "code",
   "execution_count": null,
   "id": "2a0e3ed7",
   "metadata": {},
   "outputs": [],
   "source": []
  },
  {
   "attachments": {},
   "cell_type": "markdown",
   "id": "5833f234",
   "metadata": {},
   "source": [
    "## Part 2: Triangulation destination image & Extract and warp triangles"
   ]
  },
  {
   "cell_type": "code",
   "execution_count": null,
   "id": "1165a520",
   "metadata": {},
   "outputs": [],
   "source": []
  },
  {
   "attachments": {},
   "cell_type": "markdown",
   "id": "9405186d",
   "metadata": {},
   "source": [
    "## Part 3: Link the warped triangles together & Replace the face on the destination image"
   ]
  },
  {
   "cell_type": "markdown",
   "id": "ab386a6a",
   "metadata": {},
   "source": []
  }
 ],
 "metadata": {
  "kernelspec": {
   "display_name": "Python 3",
   "language": "python",
   "name": "python3"
  },
  "language_info": {
   "codemirror_mode": {
    "name": "ipython",
    "version": 3
   },
   "file_extension": ".py",
   "mimetype": "text/x-python",
   "name": "python",
   "nbconvert_exporter": "python",
   "pygments_lexer": "ipython3",
   "version": "3.10.11"
  }
 },
 "nbformat": 4,
 "nbformat_minor": 5
}
