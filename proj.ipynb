{
 "cells": [
  {
   "attachments": {},
   "cell_type": "markdown",
   "id": "682f6ab5",
   "metadata": {},
   "source": [
    "# CS445 Final Project: Face Swapping\n",
    "\n",
    "## Group Members:\n",
    "\n",
    "### Motivation\n",
    "The objective for this project is to be able to capture a facial expression from one image and put it on another person. The motivation for this project is that people may want to capture an expression from another person, and then be able to apply it to another image. By completing this project, we hope to learn how to capture facial expression and blend naturally onto another image. "
   ]
  },
  {
   "cell_type": "code",
   "execution_count": null,
   "metadata": {},
   "outputs": [],
   "source": []
  }
 ],
 "metadata": {
  "kernelspec": {
   "display_name": "Python 3",
   "language": "python",
   "name": "python3"
  },
  "language_info": {
   "name": "python",
   "version": "3.10.11"
  }
 },
 "nbformat": 4,
 "nbformat_minor": 5
}
